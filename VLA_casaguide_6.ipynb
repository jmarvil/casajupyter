{
 "cells": [
  {
   "cell_type": "markdown",
   "id": "85d03eb8-b1d3-4fca-8c55-cd53ad5d534b",
   "metadata": {},
   "source": [
    "## HI 21 cm Spectral Line Data Reduction Tutorial"
   ]
  },
  {
   "cell_type": "code",
   "execution_count": null,
   "id": "4ceba559-7a04-47f9-a568-bdb045e58a52",
   "metadata": {},
   "outputs": [],
   "source": []
  }
 ],
 "metadata": {
  "kernelspec": {
   "display_name": "Python 3 (ipykernel)",
   "language": "python",
   "name": "python3"
  },
  "language_info": {
   "codemirror_mode": {
    "name": "ipython",
    "version": 3
   },
   "file_extension": ".py",
   "mimetype": "text/x-python",
   "name": "python",
   "nbconvert_exporter": "python",
   "pygments_lexer": "ipython3",
   "version": "3.8.12"
  }
 },
 "nbformat": 4,
 "nbformat_minor": 5
}

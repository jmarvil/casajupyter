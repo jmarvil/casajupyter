{
 "cells": [
  {
   "cell_type": "markdown",
   "id": "16b7fb90-d7ba-4f32-a322-9f7cd723fb89",
   "metadata": {},
   "source": [
    "## High frequency (36GHz), spectral line data reduction: Carbon Star IRC+10216"
   ]
  },
  {
   "cell_type": "code",
   "execution_count": null,
   "id": "e10b3a73-e9c0-4715-86b9-df6d06a09795",
   "metadata": {},
   "outputs": [],
   "source": []
  }
 ],
 "metadata": {
  "kernelspec": {
   "display_name": "Python 3 (ipykernel)",
   "language": "python",
   "name": "python3"
  },
  "language_info": {
   "codemirror_mode": {
    "name": "ipython",
    "version": 3
   },
   "file_extension": ".py",
   "mimetype": "text/x-python",
   "name": "python",
   "nbconvert_exporter": "python",
   "pygments_lexer": "ipython3",
   "version": "3.8.12"
  }
 },
 "nbformat": 4,
 "nbformat_minor": 5
}

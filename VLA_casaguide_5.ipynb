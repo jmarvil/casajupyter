{
 "cells": [
  {
   "cell_type": "markdown",
   "id": "a6579041-ddb2-4153-bea2-5596a1c04fd7",
   "metadata": {},
   "source": [
    "## MG0414+0534 P-band Spectral Line Tutorial"
   ]
  },
  {
   "cell_type": "code",
   "execution_count": null,
   "id": "afb21c67-2303-4f64-a741-5f51149ab54d",
   "metadata": {},
   "outputs": [],
   "source": []
  }
 ],
 "metadata": {
  "kernelspec": {
   "display_name": "Python 3 (ipykernel)",
   "language": "python",
   "name": "python3"
  },
  "language_info": {
   "codemirror_mode": {
    "name": "ipython",
    "version": 3
   },
   "file_extension": ".py",
   "mimetype": "text/x-python",
   "name": "python",
   "nbconvert_exporter": "python",
   "pygments_lexer": "ipython3",
   "version": "3.8.12"
  }
 },
 "nbformat": 4,
 "nbformat_minor": 5
}

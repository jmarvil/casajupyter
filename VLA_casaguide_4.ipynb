{
 "cells": [
  {
   "cell_type": "markdown",
   "id": "69da9684-9593-452c-a3f4-a5dee4e6c30e",
   "metadata": {},
   "source": [
    "## P-band continuum imaging data reduction tutorial: 3C129"
   ]
  },
  {
   "cell_type": "code",
   "execution_count": null,
   "id": "aed76c29-e13d-4af1-9d3c-3c3dc631acbc",
   "metadata": {},
   "outputs": [],
   "source": []
  }
 ],
 "metadata": {
  "kernelspec": {
   "display_name": "Python 3 (ipykernel)",
   "language": "python",
   "name": "python3"
  },
  "language_info": {
   "codemirror_mode": {
    "name": "ipython",
    "version": 3
   },
   "file_extension": ".py",
   "mimetype": "text/x-python",
   "name": "python",
   "nbconvert_exporter": "python",
   "pygments_lexer": "ipython3",
   "version": "3.8.12"
  }
 },
 "nbformat": 4,
 "nbformat_minor": 5
}

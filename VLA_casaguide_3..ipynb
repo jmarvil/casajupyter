{
 "cells": [
  {
   "cell_type": "markdown",
   "id": "4fc1d374-172d-4da9-8d8a-6ef653c2592b",
   "metadata": {},
   "source": [
    "## Polarization Calibration based on CASA pipeline standard reduction: The radio galaxy 3C75"
   ]
  },
  {
   "cell_type": "code",
   "execution_count": null,
   "id": "61796be5-5382-4ee6-9b65-9437def8a627",
   "metadata": {},
   "outputs": [],
   "source": []
  }
 ],
 "metadata": {
  "kernelspec": {
   "display_name": "Python 3 (ipykernel)",
   "language": "python",
   "name": "python3"
  },
  "language_info": {
   "codemirror_mode": {
    "name": "ipython",
    "version": 3
   },
   "file_extension": ".py",
   "mimetype": "text/x-python",
   "name": "python",
   "nbconvert_exporter": "python",
   "pygments_lexer": "ipython3",
   "version": "3.8.12"
  }
 },
 "nbformat": 4,
 "nbformat_minor": 5
}
